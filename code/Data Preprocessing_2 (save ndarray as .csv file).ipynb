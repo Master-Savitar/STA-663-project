{
 "cells": [
  {
   "cell_type": "code",
   "execution_count": 1,
   "metadata": {
    "ExecuteTime": {
     "end_time": "2022-06-10T07:27:09.649726Z",
     "start_time": "2022-06-10T07:27:03.159565Z"
    }
   },
   "outputs": [],
   "source": [
    "import pandas as pd\n",
    "import torch\n",
    "from tqdm import tqdm"
   ]
  },
  {
   "cell_type": "code",
   "execution_count": 2,
   "metadata": {
    "ExecuteTime": {
     "end_time": "2022-06-10T07:27:10.174193Z",
     "start_time": "2022-06-10T07:27:09.686615Z"
    }
   },
   "outputs": [
    {
     "data": {
      "text/html": [
       "<div>\n",
       "<style scoped>\n",
       "    .dataframe tbody tr th:only-of-type {\n",
       "        vertical-align: middle;\n",
       "    }\n",
       "\n",
       "    .dataframe tbody tr th {\n",
       "        vertical-align: top;\n",
       "    }\n",
       "\n",
       "    .dataframe thead th {\n",
       "        text-align: right;\n",
       "    }\n",
       "</style>\n",
       "<table border=\"1\" class=\"dataframe\">\n",
       "  <thead>\n",
       "    <tr style=\"text-align: right;\">\n",
       "      <th></th>\n",
       "      <th>UserID</th>\n",
       "      <th>MovieID</th>\n",
       "      <th>Rating</th>\n",
       "      <th>Month</th>\n",
       "    </tr>\n",
       "  </thead>\n",
       "  <tbody>\n",
       "    <tr>\n",
       "      <th>0</th>\n",
       "      <td>1</td>\n",
       "      <td>1193</td>\n",
       "      <td>5</td>\n",
       "      <td>9</td>\n",
       "    </tr>\n",
       "    <tr>\n",
       "      <th>1</th>\n",
       "      <td>1</td>\n",
       "      <td>661</td>\n",
       "      <td>3</td>\n",
       "      <td>9</td>\n",
       "    </tr>\n",
       "    <tr>\n",
       "      <th>2</th>\n",
       "      <td>1</td>\n",
       "      <td>914</td>\n",
       "      <td>3</td>\n",
       "      <td>9</td>\n",
       "    </tr>\n",
       "    <tr>\n",
       "      <th>3</th>\n",
       "      <td>1</td>\n",
       "      <td>3408</td>\n",
       "      <td>4</td>\n",
       "      <td>9</td>\n",
       "    </tr>\n",
       "    <tr>\n",
       "      <th>4</th>\n",
       "      <td>1</td>\n",
       "      <td>2355</td>\n",
       "      <td>5</td>\n",
       "      <td>9</td>\n",
       "    </tr>\n",
       "  </tbody>\n",
       "</table>\n",
       "</div>"
      ],
      "text/plain": [
       "   UserID  MovieID  Rating  Month\n",
       "0       1     1193       5      9\n",
       "1       1      661       3      9\n",
       "2       1      914       3      9\n",
       "3       1     3408       4      9\n",
       "4       1     2355       5      9"
      ]
     },
     "execution_count": 2,
     "metadata": {},
     "output_type": "execute_result"
    }
   ],
   "source": [
    "user_df = pd.read_csv(\"C:\\\\Users\\\\maoru\\\\Desktop\\\\Yao Wang\\\\data\\\\users.csv\")\n",
    "movie_df = pd.read_csv(\"C:\\\\Users\\\\maoru\\\\Desktop\\\\Yao Wang\\\\data\\\\movies.csv\")\n",
    "rating_df = pd.read_csv(\"C:\\\\Users\\\\maoru\\\\Desktop\\\\Yao Wang\\\\data\\\\ratings.csv\").drop(\"TimeStamp\", axis=1)\n",
    "rating_df.head()"
   ]
  },
  {
   "cell_type": "markdown",
   "metadata": {},
   "source": [
    "# Preprocess users' side information"
   ]
  },
  {
   "cell_type": "code",
   "execution_count": 3,
   "metadata": {
    "ExecuteTime": {
     "end_time": "2022-06-10T07:27:10.283869Z",
     "start_time": "2022-06-10T07:27:10.255942Z"
    }
   },
   "outputs": [
    {
     "data": {
      "text/html": [
       "<div>\n",
       "<style scoped>\n",
       "    .dataframe tbody tr th:only-of-type {\n",
       "        vertical-align: middle;\n",
       "    }\n",
       "\n",
       "    .dataframe tbody tr th {\n",
       "        vertical-align: top;\n",
       "    }\n",
       "\n",
       "    .dataframe thead th {\n",
       "        text-align: right;\n",
       "    }\n",
       "</style>\n",
       "<table border=\"1\" class=\"dataframe\">\n",
       "  <thead>\n",
       "    <tr style=\"text-align: right;\">\n",
       "      <th></th>\n",
       "      <th>UserID</th>\n",
       "      <th>Gender</th>\n",
       "      <th>Age</th>\n",
       "      <th>0</th>\n",
       "      <th>1</th>\n",
       "      <th>2</th>\n",
       "      <th>3</th>\n",
       "      <th>4</th>\n",
       "      <th>5</th>\n",
       "      <th>6</th>\n",
       "      <th>...</th>\n",
       "      <th>11</th>\n",
       "      <th>12</th>\n",
       "      <th>13</th>\n",
       "      <th>14</th>\n",
       "      <th>15</th>\n",
       "      <th>16</th>\n",
       "      <th>17</th>\n",
       "      <th>18</th>\n",
       "      <th>19</th>\n",
       "      <th>20</th>\n",
       "    </tr>\n",
       "  </thead>\n",
       "  <tbody>\n",
       "    <tr>\n",
       "      <th>0</th>\n",
       "      <td>1</td>\n",
       "      <td>0</td>\n",
       "      <td>1</td>\n",
       "      <td>0</td>\n",
       "      <td>0</td>\n",
       "      <td>0</td>\n",
       "      <td>0</td>\n",
       "      <td>0</td>\n",
       "      <td>0</td>\n",
       "      <td>0</td>\n",
       "      <td>...</td>\n",
       "      <td>0</td>\n",
       "      <td>0</td>\n",
       "      <td>0</td>\n",
       "      <td>0</td>\n",
       "      <td>0</td>\n",
       "      <td>0</td>\n",
       "      <td>0</td>\n",
       "      <td>0</td>\n",
       "      <td>0</td>\n",
       "      <td>0</td>\n",
       "    </tr>\n",
       "    <tr>\n",
       "      <th>1</th>\n",
       "      <td>2</td>\n",
       "      <td>1</td>\n",
       "      <td>56</td>\n",
       "      <td>0</td>\n",
       "      <td>0</td>\n",
       "      <td>0</td>\n",
       "      <td>0</td>\n",
       "      <td>0</td>\n",
       "      <td>0</td>\n",
       "      <td>0</td>\n",
       "      <td>...</td>\n",
       "      <td>0</td>\n",
       "      <td>0</td>\n",
       "      <td>0</td>\n",
       "      <td>0</td>\n",
       "      <td>0</td>\n",
       "      <td>1</td>\n",
       "      <td>0</td>\n",
       "      <td>0</td>\n",
       "      <td>0</td>\n",
       "      <td>0</td>\n",
       "    </tr>\n",
       "    <tr>\n",
       "      <th>2</th>\n",
       "      <td>3</td>\n",
       "      <td>1</td>\n",
       "      <td>25</td>\n",
       "      <td>0</td>\n",
       "      <td>0</td>\n",
       "      <td>0</td>\n",
       "      <td>0</td>\n",
       "      <td>0</td>\n",
       "      <td>0</td>\n",
       "      <td>0</td>\n",
       "      <td>...</td>\n",
       "      <td>0</td>\n",
       "      <td>0</td>\n",
       "      <td>0</td>\n",
       "      <td>0</td>\n",
       "      <td>1</td>\n",
       "      <td>0</td>\n",
       "      <td>0</td>\n",
       "      <td>0</td>\n",
       "      <td>0</td>\n",
       "      <td>0</td>\n",
       "    </tr>\n",
       "    <tr>\n",
       "      <th>3</th>\n",
       "      <td>4</td>\n",
       "      <td>1</td>\n",
       "      <td>45</td>\n",
       "      <td>0</td>\n",
       "      <td>0</td>\n",
       "      <td>0</td>\n",
       "      <td>0</td>\n",
       "      <td>0</td>\n",
       "      <td>0</td>\n",
       "      <td>0</td>\n",
       "      <td>...</td>\n",
       "      <td>0</td>\n",
       "      <td>0</td>\n",
       "      <td>0</td>\n",
       "      <td>0</td>\n",
       "      <td>0</td>\n",
       "      <td>0</td>\n",
       "      <td>0</td>\n",
       "      <td>0</td>\n",
       "      <td>0</td>\n",
       "      <td>0</td>\n",
       "    </tr>\n",
       "    <tr>\n",
       "      <th>4</th>\n",
       "      <td>5</td>\n",
       "      <td>1</td>\n",
       "      <td>25</td>\n",
       "      <td>0</td>\n",
       "      <td>0</td>\n",
       "      <td>0</td>\n",
       "      <td>0</td>\n",
       "      <td>0</td>\n",
       "      <td>0</td>\n",
       "      <td>0</td>\n",
       "      <td>...</td>\n",
       "      <td>0</td>\n",
       "      <td>0</td>\n",
       "      <td>0</td>\n",
       "      <td>0</td>\n",
       "      <td>0</td>\n",
       "      <td>0</td>\n",
       "      <td>0</td>\n",
       "      <td>0</td>\n",
       "      <td>0</td>\n",
       "      <td>1</td>\n",
       "    </tr>\n",
       "  </tbody>\n",
       "</table>\n",
       "<p>5 rows × 24 columns</p>\n",
       "</div>"
      ],
      "text/plain": [
       "   UserID  Gender  Age  0  1  2  3  4  5  6  ...  11  12  13  14  15  16  17  \\\n",
       "0       1       0    1  0  0  0  0  0  0  0  ...   0   0   0   0   0   0   0   \n",
       "1       2       1   56  0  0  0  0  0  0  0  ...   0   0   0   0   0   1   0   \n",
       "2       3       1   25  0  0  0  0  0  0  0  ...   0   0   0   0   1   0   0   \n",
       "3       4       1   45  0  0  0  0  0  0  0  ...   0   0   0   0   0   0   0   \n",
       "4       5       1   25  0  0  0  0  0  0  0  ...   0   0   0   0   0   0   0   \n",
       "\n",
       "   18  19  20  \n",
       "0   0   0   0  \n",
       "1   0   0   0  \n",
       "2   0   0   0  \n",
       "3   0   0   0  \n",
       "4   0   0   1  \n",
       "\n",
       "[5 rows x 24 columns]"
      ]
     },
     "execution_count": 3,
     "metadata": {},
     "output_type": "execute_result"
    }
   ],
   "source": [
    "user_df.head()"
   ]
  },
  {
   "cell_type": "code",
   "execution_count": 4,
   "metadata": {
    "ExecuteTime": {
     "end_time": "2022-06-10T07:27:10.362689Z",
     "start_time": "2022-06-10T07:27:10.353680Z"
    }
   },
   "outputs": [
    {
     "data": {
      "text/plain": [
       "(6040, 6040)"
      ]
     },
     "execution_count": 4,
     "metadata": {},
     "output_type": "execute_result"
    }
   ],
   "source": [
    "max(user_df[\"UserID\"]), len(set(user_df[\"UserID\"]))"
   ]
  },
  {
   "cell_type": "code",
   "execution_count": 5,
   "metadata": {
    "ExecuteTime": {
     "end_time": "2022-06-10T07:27:10.676848Z",
     "start_time": "2022-06-10T07:27:10.444438Z"
    }
   },
   "outputs": [
    {
     "data": {
      "text/plain": [
       "(6040, 6040)"
      ]
     },
     "execution_count": 5,
     "metadata": {},
     "output_type": "execute_result"
    }
   ],
   "source": [
    "max(rating_df[\"UserID\"]), len(set(rating_df[\"UserID\"]))"
   ]
  },
  {
   "cell_type": "markdown",
   "metadata": {},
   "source": [
    "rating与user中包含的UserID**一致且连续**。"
   ]
  },
  {
   "cell_type": "code",
   "execution_count": 6,
   "metadata": {
    "ExecuteTime": {
     "end_time": "2022-06-10T07:27:10.881400Z",
     "start_time": "2022-06-10T07:27:10.788517Z"
    }
   },
   "outputs": [
    {
     "data": {
      "text/html": [
       "<div>\n",
       "<style scoped>\n",
       "    .dataframe tbody tr th:only-of-type {\n",
       "        vertical-align: middle;\n",
       "    }\n",
       "\n",
       "    .dataframe tbody tr th {\n",
       "        vertical-align: top;\n",
       "    }\n",
       "\n",
       "    .dataframe thead th {\n",
       "        text-align: right;\n",
       "    }\n",
       "</style>\n",
       "<table border=\"1\" class=\"dataframe\">\n",
       "  <thead>\n",
       "    <tr style=\"text-align: right;\">\n",
       "      <th></th>\n",
       "      <th>UserID</th>\n",
       "      <th>Gender</th>\n",
       "      <th>Age</th>\n",
       "      <th>0</th>\n",
       "      <th>1</th>\n",
       "      <th>2</th>\n",
       "      <th>3</th>\n",
       "      <th>4</th>\n",
       "      <th>5</th>\n",
       "      <th>6</th>\n",
       "      <th>...</th>\n",
       "      <th>11</th>\n",
       "      <th>12</th>\n",
       "      <th>13</th>\n",
       "      <th>14</th>\n",
       "      <th>15</th>\n",
       "      <th>16</th>\n",
       "      <th>17</th>\n",
       "      <th>18</th>\n",
       "      <th>19</th>\n",
       "      <th>20</th>\n",
       "    </tr>\n",
       "  </thead>\n",
       "  <tbody>\n",
       "    <tr>\n",
       "      <th>0</th>\n",
       "      <td>1</td>\n",
       "      <td>0</td>\n",
       "      <td>0.000000</td>\n",
       "      <td>0</td>\n",
       "      <td>0</td>\n",
       "      <td>0</td>\n",
       "      <td>0</td>\n",
       "      <td>0</td>\n",
       "      <td>0</td>\n",
       "      <td>0</td>\n",
       "      <td>...</td>\n",
       "      <td>0</td>\n",
       "      <td>0</td>\n",
       "      <td>0</td>\n",
       "      <td>0</td>\n",
       "      <td>0</td>\n",
       "      <td>0</td>\n",
       "      <td>0</td>\n",
       "      <td>0</td>\n",
       "      <td>0</td>\n",
       "      <td>0</td>\n",
       "    </tr>\n",
       "    <tr>\n",
       "      <th>1</th>\n",
       "      <td>2</td>\n",
       "      <td>1</td>\n",
       "      <td>1.000000</td>\n",
       "      <td>0</td>\n",
       "      <td>0</td>\n",
       "      <td>0</td>\n",
       "      <td>0</td>\n",
       "      <td>0</td>\n",
       "      <td>0</td>\n",
       "      <td>0</td>\n",
       "      <td>...</td>\n",
       "      <td>0</td>\n",
       "      <td>0</td>\n",
       "      <td>0</td>\n",
       "      <td>0</td>\n",
       "      <td>0</td>\n",
       "      <td>1</td>\n",
       "      <td>0</td>\n",
       "      <td>0</td>\n",
       "      <td>0</td>\n",
       "      <td>0</td>\n",
       "    </tr>\n",
       "    <tr>\n",
       "      <th>2</th>\n",
       "      <td>3</td>\n",
       "      <td>1</td>\n",
       "      <td>0.436364</td>\n",
       "      <td>0</td>\n",
       "      <td>0</td>\n",
       "      <td>0</td>\n",
       "      <td>0</td>\n",
       "      <td>0</td>\n",
       "      <td>0</td>\n",
       "      <td>0</td>\n",
       "      <td>...</td>\n",
       "      <td>0</td>\n",
       "      <td>0</td>\n",
       "      <td>0</td>\n",
       "      <td>0</td>\n",
       "      <td>1</td>\n",
       "      <td>0</td>\n",
       "      <td>0</td>\n",
       "      <td>0</td>\n",
       "      <td>0</td>\n",
       "      <td>0</td>\n",
       "    </tr>\n",
       "    <tr>\n",
       "      <th>3</th>\n",
       "      <td>4</td>\n",
       "      <td>1</td>\n",
       "      <td>0.800000</td>\n",
       "      <td>0</td>\n",
       "      <td>0</td>\n",
       "      <td>0</td>\n",
       "      <td>0</td>\n",
       "      <td>0</td>\n",
       "      <td>0</td>\n",
       "      <td>0</td>\n",
       "      <td>...</td>\n",
       "      <td>0</td>\n",
       "      <td>0</td>\n",
       "      <td>0</td>\n",
       "      <td>0</td>\n",
       "      <td>0</td>\n",
       "      <td>0</td>\n",
       "      <td>0</td>\n",
       "      <td>0</td>\n",
       "      <td>0</td>\n",
       "      <td>0</td>\n",
       "    </tr>\n",
       "    <tr>\n",
       "      <th>4</th>\n",
       "      <td>5</td>\n",
       "      <td>1</td>\n",
       "      <td>0.436364</td>\n",
       "      <td>0</td>\n",
       "      <td>0</td>\n",
       "      <td>0</td>\n",
       "      <td>0</td>\n",
       "      <td>0</td>\n",
       "      <td>0</td>\n",
       "      <td>0</td>\n",
       "      <td>...</td>\n",
       "      <td>0</td>\n",
       "      <td>0</td>\n",
       "      <td>0</td>\n",
       "      <td>0</td>\n",
       "      <td>0</td>\n",
       "      <td>0</td>\n",
       "      <td>0</td>\n",
       "      <td>0</td>\n",
       "      <td>0</td>\n",
       "      <td>1</td>\n",
       "    </tr>\n",
       "  </tbody>\n",
       "</table>\n",
       "<p>5 rows × 24 columns</p>\n",
       "</div>"
      ],
      "text/plain": [
       "   UserID  Gender       Age  0  1  2  3  4  5  6  ...  11  12  13  14  15  16  \\\n",
       "0       1       0  0.000000  0  0  0  0  0  0  0  ...   0   0   0   0   0   0   \n",
       "1       2       1  1.000000  0  0  0  0  0  0  0  ...   0   0   0   0   0   1   \n",
       "2       3       1  0.436364  0  0  0  0  0  0  0  ...   0   0   0   0   1   0   \n",
       "3       4       1  0.800000  0  0  0  0  0  0  0  ...   0   0   0   0   0   0   \n",
       "4       5       1  0.436364  0  0  0  0  0  0  0  ...   0   0   0   0   0   0   \n",
       "\n",
       "   17  18  19  20  \n",
       "0   0   0   0   0  \n",
       "1   0   0   0   0  \n",
       "2   0   0   0   0  \n",
       "3   0   0   0   0  \n",
       "4   0   0   0   1  \n",
       "\n",
       "[5 rows x 24 columns]"
      ]
     },
     "execution_count": 6,
     "metadata": {},
     "output_type": "execute_result"
    }
   ],
   "source": [
    "# normalize\n",
    "user_df[\"Age\"] = (user_df[\"Age\"] - user_df[\"Age\"].min()) / (user_df[\"Age\"].max() - user_df[\"Age\"].min())\n",
    "user_df.head()"
   ]
  },
  {
   "cell_type": "code",
   "execution_count": 7,
   "metadata": {
    "ExecuteTime": {
     "end_time": "2022-06-10T07:27:10.976116Z",
     "start_time": "2022-06-10T07:27:10.948204Z"
    }
   },
   "outputs": [
    {
     "data": {
      "text/plain": [
       "(6040, 23)"
      ]
     },
     "execution_count": 7,
     "metadata": {},
     "output_type": "execute_result"
    }
   ],
   "source": [
    "user_matrix = user_df.sort_values(by=\"UserID\").iloc[:, 1:].to_numpy()\n",
    "user_matrix.shape"
   ]
  },
  {
   "cell_type": "code",
   "execution_count": 8,
   "metadata": {
    "ExecuteTime": {
     "end_time": "2022-06-10T07:27:11.213450Z",
     "start_time": "2022-06-10T07:27:11.072858Z"
    }
   },
   "outputs": [],
   "source": [
    "np.savetxt(\"C:\\\\Users\\\\maoru\\\\Desktop\\\\Yao Wang\\\\data\\\\user_matrix.csv\", user_matrix, delimiter=\",\")"
   ]
  },
  {
   "cell_type": "markdown",
   "metadata": {},
   "source": [
    "# Preprocess items' side information"
   ]
  },
  {
   "cell_type": "code",
   "execution_count": 9,
   "metadata": {
    "ExecuteTime": {
     "end_time": "2022-06-10T07:27:11.356069Z",
     "start_time": "2022-06-10T07:27:11.328147Z"
    }
   },
   "outputs": [
    {
     "data": {
      "text/plain": [
       "(3952, 3883)"
      ]
     },
     "execution_count": 9,
     "metadata": {},
     "output_type": "execute_result"
    }
   ],
   "source": [
    "max(movie_df[\"MovieID\"]), len(set(movie_df[\"MovieID\"]))"
   ]
  },
  {
   "cell_type": "code",
   "execution_count": 10,
   "metadata": {
    "ExecuteTime": {
     "end_time": "2022-06-10T07:27:11.828313Z",
     "start_time": "2022-06-10T07:27:11.473712Z"
    }
   },
   "outputs": [
    {
     "data": {
      "text/plain": [
       "(3952, 3706)"
      ]
     },
     "execution_count": 10,
     "metadata": {},
     "output_type": "execute_result"
    }
   ],
   "source": [
    "max(rating_df[\"MovieID\"]), len(set(rating_df[\"MovieID\"]))"
   ]
  },
  {
   "cell_type": "code",
   "execution_count": null,
   "metadata": {
    "ExecuteTime": {
     "end_time": "2022-04-16T04:43:58.759237Z",
     "start_time": "2022-04-16T04:43:57.089584Z"
    }
   },
   "outputs": [],
   "source": [
    "for i in list(set(rating_df[\"MovieID\"])):\n",
    "    if i not in set(movie_df[\"MovieID\"]):\n",
    "        print(\"Missing!\")"
   ]
  },
  {
   "cell_type": "markdown",
   "metadata": {},
   "source": [
    "rating与movie中包含的MovieID不一致且不连续，具体而言，rating中出现的movie更少，即rating中出现的所有movie的信息都在movie.csv中找到与之对应的。因此，**只需要考虑rating中出现的movie即可**，且为了存储方便应该建立起原本movie_id与存储索引的映射关系。"
   ]
  },
  {
   "cell_type": "code",
   "execution_count": null,
   "metadata": {
    "ExecuteTime": {
     "end_time": "2022-04-16T04:43:59.216120Z",
     "start_time": "2022-04-16T04:43:59.047462Z"
    }
   },
   "outputs": [],
   "source": [
    "# 构建一个从小到大的排列序号与实际MovieID映射的dict (movie_id -> order)\n",
    "id_list = sorted(list(set(rating_df[\"MovieID\"])))\n",
    "id2order_dict = {}\n",
    "for (i, id_) in enumerate(id_list):\n",
    "    id2order_dict[id_] = i"
   ]
  },
  {
   "cell_type": "code",
   "execution_count": null,
   "metadata": {
    "ExecuteTime": {
     "end_time": "2022-04-16T04:43:59.566175Z",
     "start_time": "2022-04-16T04:43:59.524254Z"
    }
   },
   "outputs": [],
   "source": [
    "id2order_dict"
   ]
  },
  {
   "cell_type": "code",
   "execution_count": null,
   "metadata": {
    "ExecuteTime": {
     "end_time": "2022-05-13T02:38:20.235267Z",
     "start_time": "2022-05-13T02:38:20.008868Z"
    }
   },
   "outputs": [],
   "source": [
    "# select the movies which appear in the rating data\n",
    "movie_df = movie_df[movie_df[\"MovieID\"].isin(list(set(rating_df[\"MovieID\"])))]\n",
    "movie_df.shape"
   ]
  },
  {
   "cell_type": "code",
   "execution_count": null,
   "metadata": {
    "ExecuteTime": {
     "end_time": "2022-05-13T02:39:51.988604Z",
     "start_time": "2022-05-13T02:39:51.958652Z"
    }
   },
   "outputs": [],
   "source": [
    "item_matrix = movie_df.sort_values(by=\"MovieID\").iloc[:, 2:].to_numpy()\n",
    "item_matrix.shape"
   ]
  },
  {
   "cell_type": "code",
   "execution_count": null,
   "metadata": {
    "ExecuteTime": {
     "end_time": "2022-05-13T02:40:12.980616Z",
     "start_time": "2022-05-13T02:40:12.873768Z"
    }
   },
   "outputs": [],
   "source": [
    "# save the ndnarray as a comma separated .csv\n",
    "np.savetxt(\"C:\\\\Users\\\\maoru\\\\Desktop\\\\Yao Wang\\\\data\\\\item_matrix.csv\", item_matrix, delimiter=\",\")"
   ]
  },
  {
   "cell_type": "markdown",
   "metadata": {},
   "source": [
    "# Convert into a rating tensor"
   ]
  },
  {
   "cell_type": "code",
   "execution_count": null,
   "metadata": {
    "ExecuteTime": {
     "end_time": "2022-04-15T11:50:55.891364Z",
     "start_time": "2022-04-15T11:50:55.854461Z"
    },
    "code_folding": [
     0
    ]
   },
   "outputs": [],
   "source": [
    "# tmp = rating_df[rating_df[\"UserID\"] <= 10]\n",
    "# tmp.sort_values([\"Month\", \"UserID\", \"MovieID\"])\n",
    "# tmp.sort_values([\"Month\", ]).\\\n",
    "#     groupby([\"Month\", \"UserID\"])[\"Rating\"].apply(np.array)"
   ]
  },
  {
   "cell_type": "code",
   "execution_count": null,
   "metadata": {
    "ExecuteTime": {
     "end_time": "2022-04-15T12:11:03.470860Z",
     "start_time": "2022-04-15T12:09:10.407108Z"
    },
    "code_folding": [
     0
    ]
   },
   "outputs": [],
   "source": [
    "# user_list = list(set(rating_df[\"UserID\"]))\n",
    "# movie_list = list(set(rating_df[\"MovieID\"]))\n",
    "# month_list = list(set(rating_df[\"Month\"]))\n",
    "\n",
    "# tmp_df = pd.DataFrame(columns=[\"UserID\", \"MovieID\", \"Month\"])\n",
    "# for month in tqdm(month_list):\n",
    "#     for user in user_list[:1]:\n",
    "#         for movie in movie_list:\n",
    "#             row = pd.DataFrame([dict(UserID=user, MovieID=movie,\n",
    "#                                     Month=month)])\n",
    "#             tmp_df.append(row, ignore_index=True)"
   ]
  },
  {
   "cell_type": "code",
   "execution_count": 3,
   "metadata": {
    "ExecuteTime": {
     "end_time": "2022-05-13T04:10:06.404757Z",
     "start_time": "2022-05-13T04:10:06.103542Z"
    }
   },
   "outputs": [],
   "source": [
    "user_list = list(set(rating_df[\"UserID\"]))\n",
    "movie_list = list(set(rating_df[\"MovieID\"]))\n",
    "month_list = list(set(rating_df[\"Month\"]))\n",
    "BATCH_SIZE = 3      # 按照时间进行batch划分\n",
    "# 在对应时间段内的rating dataframe\n",
    "# batch_rating_df = rating_df[rating_df[\"Month\"] < BATCH_SIZE]"
   ]
  },
  {
   "cell_type": "code",
   "execution_count": null,
   "metadata": {
    "ExecuteTime": {
     "start_time": "2022-05-13T04:24:47.840Z"
    }
   },
   "outputs": [
    {
     "name": "stderr",
     "output_type": "stream",
     "text": [
      "\r",
      "  0%|                                                                                           | 0/12 [00:00<?, ?it/s]"
     ]
    }
   ],
   "source": [
    "for i in tqdm(range(36 // BATCH_SIZE)):\n",
    "    batch_rating_df = rating_df[(rating_df[\"Month\"] >= (i*BATCH_SIZE)) & (rating_df[\"Month\"] < ((i+1)*BATCH_SIZE))]\n",
    "    a = pd.DataFrame({'UserID': user_list, \n",
    "                      'key':[1 for _ in range(len(user_list))]})\n",
    "    b = pd.DataFrame({\"MovieID\": movie_list,\\\n",
    "                      'key':[1 for _ in range(len(movie_list))]})\n",
    "    c = pd.DataFrame({\"Month\": month_list[:BATCH_SIZE], \n",
    "                      'key': [1 for _ in range(i*BATCH_SIZE, (i+1)*BATCH_SIZE)]}) \n",
    "    # batch上user,movie和time的笛卡尔积\n",
    "    batch_dec = a.merge(b, on='key').merge(c, on=\"key\").drop(\"key\", axis=1)\n",
    "    # 将两者合并，使用Nan对空缺的地方进行填充\n",
    "    tmp_rating_df = batch_rating_df.merge(batch_dec, \n",
    "                                         on=[\"UserID\", \"MovieID\", \"Month\"],\n",
    "                                         how=\"right\").sort_values([\"Month\", \"UserID\", \"MovieID\"])\n",
    "    \n",
    "    tmp_rating_tensor = tmp_rating_df.groupby([\"Month\", \"UserID\"])[\"Rating\"].apply(list)\n",
    "    tmp_rating_tensor = np.array(list(tmp_rating_tensor))\n",
    "    # reshape as (batch_NT, N_u, N_v)\n",
    "    tmp_rating_tensor = tmp_rating_tensor.reshape((BATCH_SIZE, \n",
    "                                                   (6040*BATCH_SIZE)//BATCH_SIZE, 3706))\n",
    "    np.savetxt(\"C:\\\\Users\\\\maoru\\\\Desktop\\\\Yao Wang\\\\data\\\\rating_tensor\\\\rating_tensor_%d.csv\" % (i), item_matrix, delimiter=\",\")"
   ]
  },
  {
   "cell_type": "code",
   "execution_count": null,
   "metadata": {
    "ExecuteTime": {
     "end_time": "2022-04-16T04:58:14.731882Z",
     "start_time": "2022-04-16T04:57:50.218288Z"
    }
   },
   "outputs": [],
   "source": [
    "# a = pd.DataFrame({'UserID': user_list, \n",
    "#                   'key':[1 for _ in range(len(user_list))]})\n",
    "# b = pd.DataFrame({\"MovieID\": movie_list,\\\n",
    "#                   'key':[1 for _ in range(len(movie_list))]})\n",
    "# c = pd.DataFrame({\"Month\": month_list[:BATCH_SIZE], \n",
    "#                   'key': [1 for _ in range(BATCH_SIZE)]})\n",
    "\n",
    "# # batch上user,movie和time的笛卡尔积\n",
    "# batch_dec = a.merge(b, on='key').merge(c, on=\"key\").drop(\"key\", axis=1)"
   ]
  },
  {
   "cell_type": "code",
   "execution_count": null,
   "metadata": {
    "ExecuteTime": {
     "end_time": "2022-04-16T05:01:39.022879Z",
     "start_time": "2022-04-16T05:00:08.477289Z"
    }
   },
   "outputs": [],
   "source": [
    "# # 将两者合并，使用Nan对空缺的地方进行填充\n",
    "# tmp_rating_df = batch_rating_df.merge(batch_dec, \n",
    "#                                      on=[\"UserID\", \"MovieID\", \"Month\"],\n",
    "#                                      how=\"right\").sort_values(\n",
    "#     [\"Month\", \"UserID\", \"MovieID\"])\n",
    "# tmp_rating_df"
   ]
  },
  {
   "cell_type": "code",
   "execution_count": null,
   "metadata": {
    "ExecuteTime": {
     "end_time": "2022-04-16T07:46:17.871809Z",
     "start_time": "2022-04-16T07:45:55.959530Z"
    }
   },
   "outputs": [],
   "source": [
    "tmp_rating_tensor = tmp_rating_df.groupby([\"Month\", \"UserID\"])[\"Rating\"].apply(list)\n",
    "tmp_rating_tensor = np.array(list(tmp_rating_tensor))\n",
    "# reshape as (batch_NT, N_u, N_v)\n",
    "tmp_rating_tensor = tmp_rating_tensor.reshape((BATCH_SIZE, \n",
    "                                               (6040*BATCH_SIZE)//BATCH_SIZE, 3706))"
   ]
  },
  {
   "cell_type": "code",
   "execution_count": null,
   "metadata": {
    "ExecuteTime": {
     "end_time": "2022-04-16T07:46:18.538532Z",
     "start_time": "2022-04-16T07:46:18.511635Z"
    },
    "scrolled": true
   },
   "outputs": [],
   "source": [
    "tmp_rating_tensor"
   ]
  },
  {
   "cell_type": "code",
   "execution_count": null,
   "metadata": {
    "ExecuteTime": {
     "end_time": "2022-04-16T07:51:27.044895Z",
     "start_time": "2022-04-16T07:51:27.026943Z"
    }
   },
   "outputs": [],
   "source": [
    "tmp_rating_tensor.shape"
   ]
  },
  {
   "cell_type": "code",
   "execution_count": null,
   "metadata": {
    "ExecuteTime": {
     "end_time": "2022-04-16T07:48:29.694704Z",
     "start_time": "2022-04-16T07:48:29.563022Z"
    },
    "scrolled": true
   },
   "outputs": [],
   "source": [
    "tmp_rating_mask = 1 - np.isnan(tmp_rating_tensor)\n",
    "tmp_rating_mask"
   ]
  },
  {
   "cell_type": "code",
   "execution_count": null,
   "metadata": {
    "ExecuteTime": {
     "end_time": "2022-04-16T08:13:56.999735Z",
     "start_time": "2022-04-16T08:13:56.490804Z"
    },
    "scrolled": true
   },
   "outputs": [],
   "source": [
    "tmp_rating_tensor[np.isnan(tmp_rating_tensor)] = 0\n",
    "tmp_rating_tensor"
   ]
  },
  {
   "cell_type": "markdown",
   "metadata": {},
   "source": [
    "Below is some experiments I conducted through the use of tucker decomposition in the package tensorly."
   ]
  },
  {
   "cell_type": "code",
   "execution_count": null,
   "metadata": {
    "ExecuteTime": {
     "end_time": "2022-04-16T08:14:07.628866Z",
     "start_time": "2022-04-16T08:14:07.623883Z"
    }
   },
   "outputs": [],
   "source": [
    "from tensorly.decomposition import _tucker"
   ]
  },
  {
   "cell_type": "code",
   "execution_count": null,
   "metadata": {
    "ExecuteTime": {
     "end_time": "2022-04-16T08:28:34.368092Z",
     "start_time": "2022-04-16T08:22:18.462750Z"
    }
   },
   "outputs": [],
   "source": [
    "# tucker decomposition with missing values\n",
    "# C, U, V are factor matrices corresponding to time, user, movie separately\n",
    "G, factor_matrics = _tucker.tucker(tensor=tmp_rating_tensor, \n",
    "                                   rank=[2, 23, 17], mask=tmp_rating_mask)"
   ]
  },
  {
   "cell_type": "code",
   "execution_count": null,
   "metadata": {
    "ExecuteTime": {
     "end_time": "2022-04-16T08:36:30.620859Z",
     "start_time": "2022-04-16T08:36:30.607920Z"
    }
   },
   "outputs": [],
   "source": [
    "G.shape"
   ]
  },
  {
   "cell_type": "code",
   "execution_count": null,
   "metadata": {
    "ExecuteTime": {
     "end_time": "2022-04-16T08:37:08.716158Z",
     "start_time": "2022-04-16T08:37:08.703193Z"
    }
   },
   "outputs": [],
   "source": [
    "C, U, V = factor_matrics\n",
    "C.shape, U.shape, V.shape"
   ]
  },
  {
   "cell_type": "code",
   "execution_count": null,
   "metadata": {
    "ExecuteTime": {
     "end_time": "2022-04-16T08:40:30.792080Z",
     "start_time": "2022-04-16T08:40:30.779123Z"
    }
   },
   "outputs": [],
   "source": [
    "C"
   ]
  },
  {
   "cell_type": "code",
   "execution_count": null,
   "metadata": {},
   "outputs": [],
   "source": []
  }
 ],
 "metadata": {
  "kernelspec": {
   "display_name": "Python 3",
   "language": "python",
   "name": "python3"
  },
  "language_info": {
   "codemirror_mode": {
    "name": "ipython",
    "version": 3
   },
   "file_extension": ".py",
   "mimetype": "text/x-python",
   "name": "python",
   "nbconvert_exporter": "python",
   "pygments_lexer": "ipython3",
   "version": "3.7.3"
  },
  "toc": {
   "base_numbering": 1,
   "nav_menu": {},
   "number_sections": true,
   "sideBar": true,
   "skip_h1_title": false,
   "title_cell": "Table of Contents",
   "title_sidebar": "Contents",
   "toc_cell": false,
   "toc_position": {},
   "toc_section_display": true,
   "toc_window_display": false
  },
  "varInspector": {
   "cols": {
    "lenName": 16,
    "lenType": 16,
    "lenVar": 40
   },
   "kernels_config": {
    "python": {
     "delete_cmd_postfix": "",
     "delete_cmd_prefix": "del ",
     "library": "var_list.py",
     "varRefreshCmd": "print(var_dic_list())"
    },
    "r": {
     "delete_cmd_postfix": ") ",
     "delete_cmd_prefix": "rm(",
     "library": "var_list.r",
     "varRefreshCmd": "cat(var_dic_list()) "
    }
   },
   "types_to_exclude": [
    "module",
    "function",
    "builtin_function_or_method",
    "instance",
    "_Feature"
   ],
   "window_display": false
  }
 },
 "nbformat": 4,
 "nbformat_minor": 2
}
